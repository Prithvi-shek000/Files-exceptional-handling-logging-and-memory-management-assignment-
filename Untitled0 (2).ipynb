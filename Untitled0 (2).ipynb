{
  "nbformat": 4,
  "nbformat_minor": 0,
  "metadata": {
    "colab": {
      "provenance": []
    },
    "kernelspec": {
      "name": "python3",
      "display_name": "Python 3"
    },
    "language_info": {
      "name": "python"
    }
  },
  "cells": [
    {
      "cell_type": "markdown",
      "source": [
        "                        Files, exceptional handling,\n",
        "                           logging and memory\n",
        "                               management\n",
        "                               Assignment\n",
        "\n"
      ],
      "metadata": {
        "id": "RRrRWrTU-6-d"
      }
    },
    {
      "cell_type": "markdown",
      "source": [
        "                                   THEORITICAL QUESTIONS\n"
      ],
      "metadata": {
        "id": "d4dmtts-_L3T"
      }
    },
    {
      "cell_type": "markdown",
      "source": [],
      "metadata": {
        "id": "x2gExgoq_UMo"
      }
    },
    {
      "cell_type": "markdown",
      "source": [
        "1.What is the difference between interpreted and compiled languages?"
      ],
      "metadata": {
        "id": "7ss9Wl1P_UUK"
      }
    },
    {
      "cell_type": "markdown",
      "source": [
        "->**Compiled languages** are translated into machine code by a compiler before execution, making them faster at runtime. **Interpreted languages** are executed line-by-line by an interpreter, which makes them slower but more flexible for testing and debugging."
      ],
      "metadata": {
        "id": "ZT8U7nof_iN6"
      }
    },
    {
      "cell_type": "markdown",
      "source": [
        "2.What is exception handling in Python?"
      ],
      "metadata": {
        "id": "ku6CT-rO_1zm"
      }
    },
    {
      "cell_type": "markdown",
      "source": [
        "->Exception handling in Python is a mechanism that allows you to handle runtime errors using try, except, else, and finally blocks. It helps prevent crashes by catching and managing exceptions (errors) gracefully.\n",
        "\n",
        "Example:"
      ],
      "metadata": {
        "id": "Fc7yAtZT_7v3"
      }
    },
    {
      "cell_type": "code",
      "source": [
        "try:\n",
        "    # Code that may raise an exception\n",
        "    x = 1 / 0\n",
        "except ZeroDivisionError:\n",
        "    print(\"Cannot divide by zero!\")\n"
      ],
      "metadata": {
        "colab": {
          "base_uri": "https://localhost:8080/"
        },
        "id": "6C154DvoAII4",
        "outputId": "41ac8f9b-0b37-493d-e94d-c6059b24f2d2"
      },
      "execution_count": 1,
      "outputs": [
        {
          "output_type": "stream",
          "name": "stdout",
          "text": [
            "Cannot divide by zero!\n"
          ]
        }
      ]
    },
    {
      "cell_type": "markdown",
      "source": [
        "This handles errors without stopping the program."
      ],
      "metadata": {
        "id": "qa1BIqkvASS1"
      }
    },
    {
      "cell_type": "markdown",
      "source": [
        "3.What is the purpose of the finally block in exception handling?"
      ],
      "metadata": {
        "id": "btJeepYMAVa5"
      }
    },
    {
      "cell_type": "markdown",
      "source": [
        "->The finally block in exception handling is used to specify code that should always run, regardless of whether an exception occurred or not. It is typically used for cleanup tasks, like closing files or releasing resources.\n"
      ],
      "metadata": {
        "id": "bYg6L1xhAbGG"
      }
    },
    {
      "cell_type": "markdown",
      "source": [
        "4.What is logging in Python?"
      ],
      "metadata": {
        "id": "oVBB5ZJHA5WT"
      }
    },
    {
      "cell_type": "markdown",
      "source": [
        "->Logging in Python is a way to track and record events, errors, or other significant activities in your program. It helps with debugging, monitoring, and maintaining code. The logging module provides a flexible framework for logging messages at different levels of severity (e.g., DEBUG, INFO, WARNING, ERROR, CRITICAL)."
      ],
      "metadata": {
        "id": "puXWjE8XBcMt"
      }
    },
    {
      "cell_type": "markdown",
      "source": [
        "5.What is the significance of the __del__ method in Python?"
      ],
      "metadata": {
        "id": "HXi940pzBqCC"
      }
    },
    {
      "cell_type": "markdown",
      "source": [
        "->The __del__ method in Python is a destructor used to define custom behavior when an object is about to be destroyed or garbage collected. It is automatically called when an object’s reference count reaches zero, i.e., when it is no longer in use.\n",
        "\n",
        "This method is typically used for cleanup tasks, such as closing files, releasing resources, or network connections that the object might have acquired during its lifetime."
      ],
      "metadata": {
        "id": "r5seJE-MBv2s"
      }
    },
    {
      "cell_type": "markdown",
      "source": [
        "6.What is the difference between import and from ... import in Python"
      ],
      "metadata": {
        "id": "sKDEUCfkB5F9"
      }
    },
    {
      "cell_type": "markdown",
      "source": [
        "->**`import module`** loads the entire module, and you access its functions using `module.function`.  \n",
        "**`from module import item`** loads specific items (functions, classes, etc.) from the module, allowing direct access without the module name."
      ],
      "metadata": {
        "id": "lpxkwoJJB9fZ"
      }
    },
    {
      "cell_type": "markdown",
      "source": [
        "7.How can you handle multiple exceptions in Python"
      ],
      "metadata": {
        "id": "bGY1tRhyCUg1"
      }
    },
    {
      "cell_type": "markdown",
      "source": [
        "->You can handle multiple exceptions in Python by using multiple except blocks or a single except block with a tuple of exception types.\n",
        "\n",
        "Example 1: Multiple except blocks:"
      ],
      "metadata": {
        "id": "wJSy0ZFlCaA1"
      }
    },
    {
      "cell_type": "code",
      "source": [
        "try:\n",
        "    # Code that may raise exceptions\n",
        "    x = 1 / 0\n",
        "except ZeroDivisionError:\n",
        "    print(\"Cannot divide by zero!\")\n",
        "except ValueError:\n",
        "    print(\"Value error occurred!\")\n"
      ],
      "metadata": {
        "colab": {
          "base_uri": "https://localhost:8080/"
        },
        "id": "TPF-RiLECj-5",
        "outputId": "26617888-a9b7-4d19-f89a-c4d8a72c89b1"
      },
      "execution_count": 4,
      "outputs": [
        {
          "output_type": "stream",
          "name": "stdout",
          "text": [
            "Cannot divide by zero!\n"
          ]
        }
      ]
    },
    {
      "cell_type": "markdown",
      "source": [
        "Example 2: Single except block with a tuple:\n"
      ],
      "metadata": {
        "id": "pUD8vcVZCnff"
      }
    },
    {
      "cell_type": "code",
      "source": [
        "try:\n",
        "    # Code that may raise exceptions\n",
        "    x = 1 / 0\n",
        "except (ZeroDivisionError, ValueError) as e:\n",
        "    print(f\"Error: {e}\")\n"
      ],
      "metadata": {
        "colab": {
          "base_uri": "https://localhost:8080/"
        },
        "id": "3RgvXoLUCsMu",
        "outputId": "c1cebf7b-96d9-479a-a3e0-9ff92e50cedc"
      },
      "execution_count": 5,
      "outputs": [
        {
          "output_type": "stream",
          "name": "stdout",
          "text": [
            "Error: division by zero\n"
          ]
        }
      ]
    },
    {
      "cell_type": "markdown",
      "source": [
        "8.What is the purpose of the with statement when handling files in Python?"
      ],
      "metadata": {
        "id": "bcFDki0yDCqv"
      }
    },
    {
      "cell_type": "markdown",
      "source": [
        "->The with statement in Python is used for context management. When handling files, it automatically handles the opening and closing of the file, even if an error occurs during file operations.\n",
        "\n",
        "This ensures that the file is properly closed after its block of code is executed, preventing issues like resource leaks.\n"
      ],
      "metadata": {
        "id": "OhFiwNvcDFze"
      }
    },
    {
      "cell_type": "markdown",
      "source": [
        "9.What is the difference between multithreading and multiprocessing?"
      ],
      "metadata": {
        "id": "afvj9QCzDprw"
      }
    },
    {
      "cell_type": "markdown",
      "source": [
        "->**Multithreading** involves running multiple threads within a single process, sharing the same memory space. It is suited for I/O-bound tasks where tasks spend time waiting (e.g., network requests).\n",
        "\n",
        "**Multiprocessing** involves running multiple processes, each with its own memory space. It is better for CPU-bound tasks that require parallel computation, as it can fully utilize multiple CPU cores.\n",
        "\n",
        "### Key Difference:\n",
        "- **Multithreading**: Same memory space, better for I/O-bound tasks.\n",
        "- **Multiprocessing**: Separate memory spaces, better for CPU-bound tasks."
      ],
      "metadata": {
        "id": "39cFSLkjDuK7"
      }
    },
    {
      "cell_type": "markdown",
      "source": [
        "10.What are the advantages of using logging in a program?"
      ],
      "metadata": {
        "id": "19zGFWfFD00A"
      }
    },
    {
      "cell_type": "markdown",
      "source": [
        "->The advantages of using logging in a program are:\n",
        "\n",
        "1. **Tracking Errors**: Helps identify and record errors, making debugging easier.\n",
        "2. **Monitoring**: Provides insights into the program's behavior and performance over time.\n",
        "3. **Flexibility**: Logs can be directed to various outputs (console, files, remote servers).\n",
        "4. **Severity Levels**: Allows categorizing messages by importance (e.g., DEBUG, INFO, ERROR).\n",
        "5. **Persistence**: Logs can be stored for future analysis or auditing."
      ],
      "metadata": {
        "id": "WiQJGsCpD5zH"
      }
    },
    {
      "cell_type": "markdown",
      "source": [
        "11. What is memory management in Python?"
      ],
      "metadata": {
        "id": "1zq2Osl-EAUD"
      }
    },
    {
      "cell_type": "markdown",
      "source": [
        "->**Memory management in Python** refers to the process of efficiently allocating, using, and freeing memory for objects. Python uses an **automatic memory management system** that includes:\n",
        "\n",
        "1. **Garbage Collection**: Reclaims memory from objects no longer in use (via reference counting and cyclic garbage collection).\n",
        "2. **Memory Pools**: Python uses memory pools for small objects to reduce overhead and improve efficiency.\n",
        "3. **Dynamic Typing**: Objects in Python are dynamically typed, which means their memory size can grow or shrink during runtime.\n",
        "\n",
        "This system helps avoid memory leaks and optimize resource usage without manual intervention."
      ],
      "metadata": {
        "id": "gBB8cfNEEEYj"
      }
    },
    {
      "cell_type": "markdown",
      "source": [
        "12.What are the basic steps involved in exception handling in Python?"
      ],
      "metadata": {
        "id": "nQoFsbYjEKZm"
      }
    },
    {
      "cell_type": "markdown",
      "source": [
        "->The basic steps involved in exception handling in Python are:\n",
        "\n",
        "1.try block: Code that might raise an exception is placed inside the try block.\n",
        "\n",
        "2.except block: Handles specific exceptions if they occur in the try block.\n",
        "\n",
        "3.else block (optional): Executes code if no exception occurs.\n",
        "\n",
        "4.finally block (optional): Executes code regardless of whether an exception occurred, typically for cleanup."
      ],
      "metadata": {
        "id": "1scO40V0EPm-"
      }
    },
    {
      "cell_type": "markdown",
      "source": [
        "13.Why is memory management important in Python?"
      ],
      "metadata": {
        "id": "bJlMEjwOEi-5"
      }
    },
    {
      "cell_type": "markdown",
      "source": [
        "->**Memory management in Python** is important because:\n",
        "\n",
        "1. **Efficient Resource Usage**: Proper memory management ensures that the program uses memory efficiently, avoiding wastage and unnecessary consumption of system resources.\n",
        "   \n",
        "2. **Prevents Memory Leaks**: By automatically handling memory allocation and deallocation (via garbage collection), Python helps prevent memory leaks, where memory is not released when no longer needed.\n",
        "\n",
        "3. **Performance**: Efficient memory management allows programs to run faster and more smoothly, especially when dealing with large datasets or long-running applications.\n",
        "\n",
        "4. **Simplifies Development**: Python's automatic memory management (through reference counting and garbage collection) reduces the burden on developers to manually manage memory, letting them focus on logic instead of low-level memory handling.\n",
        "\n",
        "In summary, it ensures your program is both **reliable** and **efficient**, especially as the size and complexity of data grow."
      ],
      "metadata": {
        "id": "6w7gGObzEnC_"
      }
    },
    {
      "cell_type": "markdown",
      "source": [
        "14.What is the role of try and except in exception handling?"
      ],
      "metadata": {
        "id": "arSawfjSEufj"
      }
    },
    {
      "cell_type": "markdown",
      "source": [
        "->In exception handling, the try block contains code that might raise an exception, while the except block handles the exception if it occurs.\n",
        "\n",
        "try: Executes code that may raise an error.\n",
        "except: Catches and handles the error, preventing the program from crashing."
      ],
      "metadata": {
        "id": "Jlco7n3BEzcQ"
      }
    },
    {
      "cell_type": "markdown",
      "source": [
        "15.How does Python's garbage collection system work?"
      ],
      "metadata": {
        "id": "ka185DX7E-lw"
      }
    },
    {
      "cell_type": "markdown",
      "source": [
        "->Python's garbage collection system works by automatically managing memory through **reference counting** and **cyclic garbage collection**.\n",
        "\n",
        "1. **Reference Counting**: Every object in Python has a reference count. When an object’s reference count drops to zero (no references to it), it is automatically deallocated.\n",
        "\n",
        "2. **Cyclic Garbage Collection**: Python also detects and cleans up reference cycles (when objects reference each other in a loop), which reference counting alone can't handle. This is done by the **garbage collector** that periodically looks for such cycles and frees the memory.\n",
        "\n",
        "Together, these mechanisms help manage memory efficiently and prevent memory leaks."
      ],
      "metadata": {
        "id": "7obpsSvvFFU5"
      }
    },
    {
      "cell_type": "markdown",
      "source": [
        "16. What is the purpose of the else block in exception handling?"
      ],
      "metadata": {
        "id": "FCWBwIkLFOXg"
      }
    },
    {
      "cell_type": "markdown",
      "source": [
        "->The else block in exception handling is executed if no exceptions are raised in the try block. It allows you to run code that should only execute when the try block is successful (i.e., no errors occurred)."
      ],
      "metadata": {
        "id": "sqpAQUYJFg9s"
      }
    },
    {
      "cell_type": "markdown",
      "source": [
        "17.What are the common logging levels in Python?"
      ],
      "metadata": {
        "id": "okmcNaZbFyRf"
      }
    },
    {
      "cell_type": "markdown",
      "source": [
        "->The common logging levels in Python are:\n",
        "\n",
        "1. **DEBUG**: Detailed information, typically useful for diagnosing problems.\n",
        "2. **INFO**: General information about the program's execution (e.g., successful operations).\n",
        "3. **WARNING**: Indicates a potential issue or something unexpected, but not an error.\n",
        "4. **ERROR**: An error that prevents part of the program from working correctly.\n",
        "5. **CRITICAL**: A very serious error that may cause the program to stop completely.\n",
        "\n",
        "These levels help categorize the severity of logged messages."
      ],
      "metadata": {
        "id": "bFi6mSmVF3de"
      }
    },
    {
      "cell_type": "markdown",
      "source": [
        "18.What is the difference between os.fork() and multiprocessing in Python?"
      ],
      "metadata": {
        "id": "TIv7TD8xF-tG"
      }
    },
    {
      "cell_type": "markdown",
      "source": [
        "->**`os.fork()`** creates a new child process by duplicating the current process, and both processes run independently. It's lower-level and primarily available on Unix-like systems.\n",
        "\n",
        "**`multiprocessing`** is a higher-level module that provides a more powerful and portable way to create and manage processes. It supports process-based parallelism and handles inter-process communication (IPC) and synchronization.\n",
        "\n",
        "### Key Difference:\n",
        "- **`os.fork()`**: Creates a child process by duplicating the parent; limited to Unix.\n",
        "- **`multiprocessing`**: Provides a cross-platform way to create and manage multiple processes with more features."
      ],
      "metadata": {
        "id": "usUa4c9LGEZF"
      }
    },
    {
      "cell_type": "markdown",
      "source": [
        "19.What is the importance of closing a file in Python?"
      ],
      "metadata": {
        "id": "pEfU0oQgGOfa"
      }
    },
    {
      "cell_type": "markdown",
      "source": [
        "->Closing a file in Python is important because it:\n",
        "\n",
        "1. **Releases Resources**: Frees up system resources (like memory and file handles) after file operations are completed.\n",
        "2. **Prevents Data Loss**: Ensures all changes to the file (e.g., writes) are saved properly.\n",
        "3. **Avoids File Locking**: Prevents other programs or processes from being locked out of the file.\n",
        "\n",
        "Using a **`with` statement** automatically handles closing, even if errors occur, making it a safer approach."
      ],
      "metadata": {
        "id": "eDCdu79GGVBY"
      }
    },
    {
      "cell_type": "markdown",
      "source": [
        "20.What is the difference between file.read() and file.readline() in Python?"
      ],
      "metadata": {
        "id": "SXSd7HVZGbtf"
      }
    },
    {
      "cell_type": "markdown",
      "source": [
        "->file.read(): Reads the entire content of the file at once and returns it as a string.\n",
        "\n",
        "file.readline(): Reads one line at a time from the file and returns it as a string.\n",
        "\n",
        "Key Difference:\n",
        "file.read() reads the whole file, while file.readline() reads a single line."
      ],
      "metadata": {
        "id": "bAtQaRi5GgQu"
      }
    },
    {
      "cell_type": "markdown",
      "source": [
        "21.What is the logging module in Python used for?"
      ],
      "metadata": {
        "id": "mVYRaqhVHST7"
      }
    },
    {
      "cell_type": "markdown",
      "source": [
        "->The **`logging` module** in Python is used to record and manage log messages, such as errors, warnings, and informational messages, during program execution. It helps in tracking events, debugging, and monitoring the behavior of the application.\n",
        "\n",
        "It supports different **log levels** (e.g., DEBUG, INFO, ERROR) and can log messages to various outputs like the console, files, or remote servers."
      ],
      "metadata": {
        "id": "AaG-iT-OHZBP"
      }
    },
    {
      "cell_type": "markdown",
      "source": [
        "22.What is the os module in Python used for in file handling?"
      ],
      "metadata": {
        "id": "EOV1s531HkSy"
      }
    },
    {
      "cell_type": "markdown",
      "source": [
        "->The **`os` module** in Python is used for interacting with the operating system, including file handling tasks such as:\n",
        "\n",
        "- **Creating, removing, and renaming files and directories** (`os.mkdir()`, `os.remove()`, `os.rename()`).\n",
        "- **Checking file properties** (`os.path.exists()`, `os.path.isfile()`, `os.path.getsize()`).\n",
        "- **Navigating directories** (`os.chdir()`, `os.listdir()`).\n",
        "- **Working with paths** (`os.path.join()`, `os.path.abspath()`).\n",
        "\n",
        "It provides functions to manage files and directories at a system level."
      ],
      "metadata": {
        "id": "DX-ZF9DzHqT2"
      }
    },
    {
      "cell_type": "markdown",
      "source": [
        "23.What are the challenges associated with memory management in Python?"
      ],
      "metadata": {
        "id": "PglNyO4EHxMj"
      }
    },
    {
      "cell_type": "markdown",
      "source": [
        "->The challenges associated with memory management in Python include:\n",
        "\n",
        "1. **Garbage Collection Overhead**: The automatic garbage collection system can introduce performance overhead, especially in applications with many objects or complex reference cycles.\n",
        "   \n",
        "2. **Memory Leaks**: While Python handles most memory management, certain situations (like circular references) can lead to memory leaks if not properly handled.\n",
        "\n",
        "3. **Large Objects**: Managing memory for large objects or datasets (e.g., big data) can consume excessive memory, leading to slowdowns or crashes if not optimized.\n",
        "\n",
        "4. **Dynamic Typing**: Python’s dynamic typing requires additional memory for type information, which may result in higher memory consumption compared to statically-typed languages.\n",
        "\n",
        "5. **Fragmentation**: As objects are allocated and deallocated, memory fragmentation may occur, affecting performance.\n",
        "\n",
        "Efficient memory management requires attention to object lifecycles and using tools like **weak references** or **memory profilers**."
      ],
      "metadata": {
        "id": "6vz7dBzrH1vK"
      }
    },
    {
      "cell_type": "markdown",
      "source": [
        "24.How do you raise an exception manually in Python?"
      ],
      "metadata": {
        "id": "3S-85gdqH8bY"
      }
    },
    {
      "cell_type": "markdown",
      "source": [
        "->You can raise an exception manually in Python using the raise keyword, followed by an exception type (and optionally a message).\n",
        "\n",
        "This raises a ValueError with the provided message. You can also raise custom exceptions by defining your own exception class."
      ],
      "metadata": {
        "id": "-4XtdRShIBDE"
      }
    },
    {
      "cell_type": "markdown",
      "source": [
        "25.Why is it important to use multithreading in certain applications?"
      ],
      "metadata": {
        "id": "1A_HRypLIS1k"
      }
    },
    {
      "cell_type": "markdown",
      "source": [
        "->Multithreading is important in certain applications because it allows **concurrent execution** of tasks, improving performance in **I/O-bound operations** (like file reading, network requests) by allowing other threads to run while waiting for I/O tasks. It can also help **responsive UI** in applications, where the main thread remains free to interact with the user while background tasks run in parallel.\n",
        "\n",
        "However, it's not ideal for **CPU-bound tasks**, as Python's Global Interpreter Lock (GIL) limits true parallelism in multi-core systems for such operations."
      ],
      "metadata": {
        "id": "6IZ49gB0IW62"
      }
    },
    {
      "cell_type": "markdown",
      "source": [
        "                                            PRACTICAL QUESTIONS"
      ],
      "metadata": {
        "id": "iHKbKSmnIdeY"
      }
    },
    {
      "cell_type": "markdown",
      "source": [
        "1.How can you open a file for writing in Python and write a string to it?"
      ],
      "metadata": {
        "id": "4lCBlaCqIs1F"
      }
    },
    {
      "cell_type": "code",
      "source": [
        "with open('file.txt', 'w') as file:\n",
        "    file.write(\"Hello, World!\")\n"
      ],
      "metadata": {
        "id": "Qey8k-ejLEfe"
      },
      "execution_count": 16,
      "outputs": []
    },
    {
      "cell_type": "markdown",
      "source": [
        "2.Write a Python program to read the contents of a file and print each line?"
      ],
      "metadata": {
        "id": "XFccMPe2LR9h"
      }
    },
    {
      "cell_type": "code",
      "source": [
        "with open('file.txt', 'r') as file:\n",
        "    for line in file:\n",
        "        print(line, end='')\n"
      ],
      "metadata": {
        "colab": {
          "base_uri": "https://localhost:8080/"
        },
        "id": "YiKcoOGmLV_z",
        "outputId": "f20ecf0d-03c9-4373-e0a3-863dc046cefb"
      },
      "execution_count": 17,
      "outputs": [
        {
          "output_type": "stream",
          "name": "stdout",
          "text": [
            "Hello, World!"
          ]
        }
      ]
    },
    {
      "cell_type": "markdown",
      "source": [
        "3.How would you handle a case where the file doesn't exist while trying to open it for reading?"
      ],
      "metadata": {
        "id": "rDrydpPbLhi2"
      }
    },
    {
      "cell_type": "code",
      "source": [
        "try:\n",
        "    with open('file.txt', 'r') as file:\n",
        "        content = file.read()\n",
        "except FileNotFoundError:\n",
        "    print(\"File not found.\")\n"
      ],
      "metadata": {
        "id": "a2C5lT4TLmmr"
      },
      "execution_count": 18,
      "outputs": []
    },
    {
      "cell_type": "markdown",
      "source": [
        "4.Write a Python script that reads from one file and writes its content to another file?"
      ],
      "metadata": {
        "id": "cAe85SbMLx7n"
      }
    },
    {
      "cell_type": "code",
      "source": [
        "with open('source.txt', 'r') as source, open('destination.txt', 'w') as destination:\n",
        "    destination.writelines(source)\n"
      ],
      "metadata": {
        "id": "3EJEen4wMrZD"
      },
      "execution_count": null,
      "outputs": []
    },
    {
      "cell_type": "markdown",
      "source": [
        "5.How would you catch and handle division by zero error in Python?"
      ],
      "metadata": {
        "id": "dWqgsHplM3QO"
      }
    },
    {
      "cell_type": "code",
      "source": [
        "try:\n",
        "    result = 10 / 0\n",
        "except ZeroDivisionError:\n",
        "    print(\"Cannot divide by zero!\")\n"
      ],
      "metadata": {
        "colab": {
          "base_uri": "https://localhost:8080/"
        },
        "id": "0kM7GfaUM9P2",
        "outputId": "42dcd48a-7c66-4be5-8eb6-f37ec49c2259"
      },
      "execution_count": 26,
      "outputs": [
        {
          "output_type": "stream",
          "name": "stdout",
          "text": [
            "Cannot divide by zero!\n"
          ]
        }
      ]
    },
    {
      "cell_type": "markdown",
      "source": [
        "6.Write a Python program that logs an error message to a log file when a division by zero exception occurs?"
      ],
      "metadata": {
        "id": "gLjBPPtQNSR2"
      }
    },
    {
      "cell_type": "code",
      "source": [
        "import logging\n",
        "\n",
        "logging.basicConfig(filename='error.log', level=logging.ERROR)\n",
        "\n",
        "try:\n",
        "    result = 10 / 0\n",
        "except ZeroDivisionError as e:\n",
        "    logging.error(\"Division by zero error: %s\", e)\n"
      ],
      "metadata": {
        "colab": {
          "base_uri": "https://localhost:8080/"
        },
        "id": "kr5EIpfXNUgF",
        "outputId": "cb50a14f-3cad-421a-cd75-a005f0670377"
      },
      "execution_count": 27,
      "outputs": [
        {
          "output_type": "stream",
          "name": "stderr",
          "text": [
            "ERROR:root:Division by zero error: division by zero\n"
          ]
        }
      ]
    },
    {
      "cell_type": "markdown",
      "source": [
        "7. How do you log information at different levels (INFO, ERROR, WARNING) in Python using the logging module?"
      ],
      "metadata": {
        "id": "vmdw54vSNZ6q"
      }
    },
    {
      "cell_type": "code",
      "source": [
        "import logging\n",
        "\n",
        "logging.basicConfig(level=logging.DEBUG, format='%(asctime)s - %(levelname)s - %(message)s')\n",
        "\n",
        "logging.debug(\"This is a debug message.\")\n",
        "logging.info(\"This is an info message.\")\n",
        "logging.warning(\"This is a warning message.\")\n",
        "logging.error(\"This is an error message.\")\n",
        "logging.critical(\"This is a critical message.\")\n"
      ],
      "metadata": {
        "colab": {
          "base_uri": "https://localhost:8080/"
        },
        "id": "sp3P7AidNfOr",
        "outputId": "2ec7dc09-cf71-4e10-fdba-877fcc7bcf99"
      },
      "execution_count": 28,
      "outputs": [
        {
          "output_type": "stream",
          "name": "stderr",
          "text": [
            "WARNING:root:This is a warning message.\n",
            "ERROR:root:This is an error message.\n",
            "CRITICAL:root:This is a critical message.\n"
          ]
        }
      ]
    },
    {
      "cell_type": "markdown",
      "source": [
        "8.Write a program to handle a file opening error using exception handling?\n"
      ],
      "metadata": {
        "id": "572s3_u3NlCt"
      }
    },
    {
      "cell_type": "code",
      "source": [
        "try:\n",
        "    with open('nonexistent_file.txt', 'r') as file:\n",
        "        content = file.read()\n",
        "except FileNotFoundError as e:\n",
        "    print(f\"Error: {e}\")\n"
      ],
      "metadata": {
        "colab": {
          "base_uri": "https://localhost:8080/"
        },
        "id": "_1XQGXZFNpnW",
        "outputId": "6f68b919-285c-489f-dbdf-64d323bcda38"
      },
      "execution_count": 29,
      "outputs": [
        {
          "output_type": "stream",
          "name": "stdout",
          "text": [
            "Error: [Errno 2] No such file or directory: 'nonexistent_file.txt'\n"
          ]
        }
      ]
    },
    {
      "cell_type": "markdown",
      "source": [
        "9.How can you read a file line by line and store its content in a list in Python?"
      ],
      "metadata": {
        "id": "DeCgO_N2NvB0"
      }
    },
    {
      "cell_type": "code",
      "source": [
        "with open('file.txt', 'r') as file:\n",
        "    lines = file.readlines()\n"
      ],
      "metadata": {
        "id": "w7babAK7NzP8"
      },
      "execution_count": 30,
      "outputs": []
    },
    {
      "cell_type": "markdown",
      "source": [
        "10.How can you append data to an existing file in Python?"
      ],
      "metadata": {
        "id": "6PAXqSvwN4p-"
      }
    },
    {
      "cell_type": "code",
      "source": [
        "with open('file.txt', 'a') as file:\n",
        "    file.write(\"New data to append.\\n\")\n"
      ],
      "metadata": {
        "id": "wUtiWN_RN870"
      },
      "execution_count": 31,
      "outputs": []
    },
    {
      "cell_type": "markdown",
      "source": [
        "11.Write a Python program that uses a try-except block to handle an error when attempting to access a\n",
        "dictionary key that doesn't exist"
      ],
      "metadata": {
        "id": "26QaJTpPOChV"
      }
    },
    {
      "cell_type": "code",
      "source": [
        "my_dict = {'name': 'Alice', 'age': 25}\n",
        "\n",
        "try:\n",
        "    value = my_dict['address']\n",
        "except KeyError as e:\n",
        "    print(f\"Error: Key {e} not found.\")\n"
      ],
      "metadata": {
        "colab": {
          "base_uri": "https://localhost:8080/"
        },
        "id": "3DO9TNYGOGpN",
        "outputId": "3b68ede2-2eff-456c-d14f-a32f38e00779"
      },
      "execution_count": 32,
      "outputs": [
        {
          "output_type": "stream",
          "name": "stdout",
          "text": [
            "Error: Key 'address' not found.\n"
          ]
        }
      ]
    },
    {
      "cell_type": "markdown",
      "source": [
        "12. Write a program that demonstrates using multiple except blocks to handle different types of exceptions"
      ],
      "metadata": {
        "id": "NgAhrPTPOM4S"
      }
    },
    {
      "cell_type": "code",
      "source": [
        "try:\n",
        "    x = 10 / 0  # Division by zero\n",
        "    y = int(\"abc\")  # Invalid literal for int()\n",
        "except ZeroDivisionError:\n",
        "    print(\"Error: Cannot divide by zero.\")\n",
        "except ValueError:\n",
        "    print(\"Error: Invalid input for conversion to integer.\")\n",
        "except Exception as e:\n",
        "    print(f\"Unexpected error: {e}\")\n"
      ],
      "metadata": {
        "colab": {
          "base_uri": "https://localhost:8080/"
        },
        "id": "Xp0yVxgfOQtb",
        "outputId": "a81161e2-2634-4ee4-e431-f7a71e393c3c"
      },
      "execution_count": 33,
      "outputs": [
        {
          "output_type": "stream",
          "name": "stdout",
          "text": [
            "Error: Cannot divide by zero.\n"
          ]
        }
      ]
    },
    {
      "cell_type": "markdown",
      "source": [
        "13.How would you check if a file exists before attempting to read it in Python?"
      ],
      "metadata": {
        "id": "sXvWrDlXOVXy"
      }
    },
    {
      "cell_type": "code",
      "source": [
        "import os\n",
        "\n",
        "if os.path.exists('file.txt'):\n",
        "    with open('file.txt', 'r') as file:\n",
        "        content = file.read()\n",
        "else:\n",
        "    print(\"File does not exist.\")\n"
      ],
      "metadata": {
        "id": "yHUeBqoPOZQa"
      },
      "execution_count": 34,
      "outputs": []
    },
    {
      "cell_type": "markdown",
      "source": [
        "14.Write a program that uses the logging module to log both informational and error messages?"
      ],
      "metadata": {
        "id": "0kukTpFiOeri"
      }
    },
    {
      "cell_type": "code",
      "source": [
        "import logging\n",
        "\n",
        "logging.basicConfig(level=logging.DEBUG, format='%(asctime)s - %(levelname)s - %(message)s', filename='app.log')\n",
        "\n",
        "logging.info(\"This is an informational message.\")\n",
        "logging.error(\"This is an error message.\")\n"
      ],
      "metadata": {
        "colab": {
          "base_uri": "https://localhost:8080/"
        },
        "id": "b-NTfmYEOkHS",
        "outputId": "0a87fe6d-6398-461d-c8d8-335ee1f989df"
      },
      "execution_count": 35,
      "outputs": [
        {
          "output_type": "stream",
          "name": "stderr",
          "text": [
            "ERROR:root:This is an error message.\n"
          ]
        }
      ]
    },
    {
      "cell_type": "markdown",
      "source": [
        "15.Write a Python program that prints the content of a file and handles the case when the file is empty?"
      ],
      "metadata": {
        "id": "BXAsJ2sfOs-M"
      }
    },
    {
      "cell_type": "code",
      "source": [
        "try:\n",
        "    with open('file.txt', 'r') as file:\n",
        "        content = file.read()\n",
        "        if content:\n",
        "            print(content)\n",
        "        else:\n",
        "            print(\"The file is empty.\")\n",
        "except FileNotFoundError:\n",
        "    print(\"File not found.\")\n"
      ],
      "metadata": {
        "colab": {
          "base_uri": "https://localhost:8080/"
        },
        "id": "Q_bax8VtOxm-",
        "outputId": "a5c86e09-4ff0-42d3-ebae-3a2cb8dd7654"
      },
      "execution_count": 36,
      "outputs": [
        {
          "output_type": "stream",
          "name": "stdout",
          "text": [
            "Hello, World!New data to append.\n",
            "\n"
          ]
        }
      ]
    },
    {
      "cell_type": "markdown",
      "source": [
        "16.Demonstrate how to use memory profiling to check the memory usage of a small program?"
      ],
      "metadata": {
        "id": "M15w_Tk9O34k"
      }
    },
    {
      "cell_type": "code",
      "source": [
        "To profile memory usage in Python, you can use the **`memory_profiler`** module. Here's how to install and use it:\n",
        "\n",
        "### Step 1: Install `memory_profiler`\n",
        "You can install it using pip:\n",
        "\n",
        "```bash\n",
        "pip install memory-profiler\n",
        "```\n",
        "\n",
        "### Step 2: Example Program for Memory Profiling\n",
        "\n",
        "```python\n",
        "from memory_profiler import profile\n",
        "\n",
        "@profile\n",
        "def my_function():\n",
        "    a = [1] * (10**6)  # Create a large list\n",
        "    b = [2] * (2 * 10**7)  # Create an even larger list\n",
        "    del b  # Delete one list to free memory\n",
        "    return a\n",
        "\n",
        "if __name__ == \"__main__\":\n",
        "    my_function()\n",
        "```\n",
        "\n",
        "### Step 3: Running the Program\n",
        "To see memory usage, run the script with:\n",
        "\n",
        "```bash\n",
        "python -m memory_profiler your_script.py\n",
        "```\n",
        "\n",
        "This will show a line-by-line report of memory usage for the `my_function()`.\n",
        "\n",
        "### Output Example:\n",
        "```bash\n",
        "Line #    Mem usage    Increment   Line Contents\n",
        "================================================\n",
        "     3     12.8 MiB     12.8 MiB   @profile\n",
        "     4     19.9 MiB      7.1 MiB   def my_function():\n",
        "     5     27.5 MiB      7.6 MiB       a = [1] * (10**6)\n",
        "     6     97.4 MiB     69.9 MiB       b = [2] * (2 * 10**7)\n",
        "     7     19.9 MiB    -77.5 MiB       del b\n",
        "     8     19.9 MiB      0.0 MiB       return a\n",
        "```\n",
        "\n",
        "This shows how much memory each line of the function uses, helping you analyze memory consumption during execution."
      ],
      "metadata": {
        "id": "9TaJmI95Pxph"
      },
      "execution_count": null,
      "outputs": []
    },
    {
      "cell_type": "markdown",
      "source": [
        "17.Write a Python program to create and write a list of numbers to a file, one number per line?"
      ],
      "metadata": {
        "id": "r133E0RFP4pU"
      }
    },
    {
      "cell_type": "code",
      "source": [
        "numbers = [1, 2, 3, 4, 5]\n",
        "\n",
        "with open('numbers.txt', 'w') as file:\n",
        "    for number in numbers:\n",
        "        file.write(f\"{number}\\n\")\n"
      ],
      "metadata": {
        "id": "r6R2YphyP_nL"
      },
      "execution_count": 41,
      "outputs": []
    },
    {
      "cell_type": "markdown",
      "source": [
        "18.How would you implement a basic logging setup that logs to a file with rotation after 1MB?"
      ],
      "metadata": {
        "id": "5op3ZVIXQFRU"
      }
    },
    {
      "cell_type": "code",
      "source": [
        "import logging\n",
        "from logging.handlers import RotatingFileHandler\n",
        "\n",
        "# Set up the rotating file handler\n",
        "handler = RotatingFileHandler('app.log', maxBytes=1e6, backupCount=3)\n",
        "handler.setLevel(logging.INFO)\n",
        "\n",
        "# Set up the formatter\n",
        "formatter = logging.Formatter('%(asctime)s - %(levelname)s - %(message)s')\n",
        "handler.setFormatter(formatter)\n",
        "\n",
        "# Set up the logger\n",
        "logger = logging.getLogger()\n",
        "logger.setLevel(logging.INFO)\n",
        "logger.addHandler(handler)\n",
        "\n",
        "# Example usage\n",
        "logger.info(\"This is an info message.\")\n",
        "logger.error(\"This is an error message.\")\n"
      ],
      "metadata": {
        "colab": {
          "base_uri": "https://localhost:8080/"
        },
        "id": "QzIK2k9fQJ_U",
        "outputId": "e98ce91e-04f7-416d-9bf4-99590aa3f945"
      },
      "execution_count": 42,
      "outputs": [
        {
          "output_type": "stream",
          "name": "stderr",
          "text": [
            "INFO:root:This is an info message.\n",
            "ERROR:root:This is an error message.\n"
          ]
        }
      ]
    },
    {
      "cell_type": "markdown",
      "source": [
        "19.Write a program that handles both IndexError and KeyError using a try-except block?"
      ],
      "metadata": {
        "id": "QE3g36SpQS9I"
      }
    },
    {
      "cell_type": "code",
      "source": [
        "my_list = [1, 2, 3]\n",
        "my_dict = {'a': 1, 'b': 2}\n",
        "\n",
        "try:\n",
        "    value = my_list[5]  # This will raise an IndexError\n",
        "    value = my_dict['c']  # This will raise a KeyError\n",
        "except IndexError:\n",
        "    print(\"IndexError: List index out of range.\")\n",
        "except KeyError:\n",
        "    print(\"KeyError: Key not found in the dictionary.\")\n"
      ],
      "metadata": {
        "colab": {
          "base_uri": "https://localhost:8080/"
        },
        "id": "wzi20724Qb6x",
        "outputId": "26e7a4bf-e55a-4fc8-ed7d-fe2271304fa9"
      },
      "execution_count": 43,
      "outputs": [
        {
          "output_type": "stream",
          "name": "stdout",
          "text": [
            "IndexError: List index out of range.\n"
          ]
        }
      ]
    },
    {
      "cell_type": "markdown",
      "source": [
        "20.How would you open a file and read its contents using a context manager in Python?"
      ],
      "metadata": {
        "id": "1yQcAInkQdno"
      }
    },
    {
      "cell_type": "code",
      "source": [
        "with open('file.txt', 'r') as file:\n",
        "    content = file.read()\n",
        "    print(content)\n"
      ],
      "metadata": {
        "colab": {
          "base_uri": "https://localhost:8080/"
        },
        "id": "nIUIRJGxQi-h",
        "outputId": "2d84dfe2-f251-4ba7-ddc0-aab2cea75c0d"
      },
      "execution_count": 44,
      "outputs": [
        {
          "output_type": "stream",
          "name": "stdout",
          "text": [
            "Hello, World!New data to append.\n",
            "\n"
          ]
        }
      ]
    },
    {
      "cell_type": "markdown",
      "source": [
        "21.Write a Python program that reads a file and prints the number of occurrences of a specific word?"
      ],
      "metadata": {
        "id": "m6zP-8zlQqnt"
      }
    },
    {
      "cell_type": "code",
      "source": [
        "word_to_find = \"example\"\n",
        "count = 0\n",
        "\n",
        "with open('file.txt', 'r') as file:\n",
        "    for line in file:\n",
        "        count += line.lower().split().count(word_to_find.lower())\n",
        "\n",
        "print(f\"The word '{word_to_find}' occurred {count} times.\")\n"
      ],
      "metadata": {
        "colab": {
          "base_uri": "https://localhost:8080/"
        },
        "id": "1SFIoDIWQuwn",
        "outputId": "4013121d-3549-486b-812d-d9e63c10f6df"
      },
      "execution_count": 45,
      "outputs": [
        {
          "output_type": "stream",
          "name": "stdout",
          "text": [
            "The word 'example' occurred 0 times.\n"
          ]
        }
      ]
    },
    {
      "cell_type": "markdown",
      "source": [
        "22. How can you check if a file is empty before attempting to read its contents?"
      ],
      "metadata": {
        "id": "S3LGkg7RQzbH"
      }
    },
    {
      "cell_type": "code",
      "source": [
        "import os\n",
        "\n",
        "if os.path.getsize('file.txt') > 0:\n",
        "    with open('file.txt', 'r') as file:\n",
        "        content = file.read()\n",
        "        print(content)\n",
        "else:\n",
        "    print(\"The file is empty.\")\n"
      ],
      "metadata": {
        "colab": {
          "base_uri": "https://localhost:8080/"
        },
        "id": "umz7jnPRQ3x0",
        "outputId": "4b3bcbae-bd46-412d-b07d-5e22aaf2ded6"
      },
      "execution_count": 46,
      "outputs": [
        {
          "output_type": "stream",
          "name": "stdout",
          "text": [
            "Hello, World!New data to append.\n",
            "\n"
          ]
        }
      ]
    },
    {
      "cell_type": "markdown",
      "source": [
        "23.Write a Python program that writes to a log file when an error occurs during file handling?"
      ],
      "metadata": {
        "id": "SAkTZqjkQ8eN"
      }
    },
    {
      "cell_type": "code",
      "source": [
        "import logging\n",
        "\n",
        "logging.basicConfig(filename='file_error.log', level=logging.ERROR, format='%(asctime)s - %(levelname)s - %(message)s')\n",
        "\n",
        "try:\n",
        "    with open('nonexistent_file.txt', 'r') as file:\n",
        "        content = file.read()\n",
        "except Exception as e:\n",
        "    logging.error(f\"Error occurred: {e}\")\n"
      ],
      "metadata": {
        "colab": {
          "base_uri": "https://localhost:8080/"
        },
        "id": "rvk2dKxDRCu8",
        "outputId": "fc7589ae-c3f0-47f7-f028-596e9c22fe8e"
      },
      "execution_count": 47,
      "outputs": [
        {
          "output_type": "stream",
          "name": "stderr",
          "text": [
            "ERROR:root:Error occurred: [Errno 2] No such file or directory: 'nonexistent_file.txt'\n"
          ]
        }
      ]
    }
  ]
}